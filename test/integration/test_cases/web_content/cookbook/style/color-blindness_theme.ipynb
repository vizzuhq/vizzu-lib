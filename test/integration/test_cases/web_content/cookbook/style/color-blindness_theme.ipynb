{
 "cells": [
  {
   "cell_type": "markdown",
   "metadata": {},
   "source": [
    "This theme uses a palette based on [Bang Wong's colors](https://www.nature.com/articles/nmeth.1618) for color-blind accesibility. Also you can use [this page](https://davidmathlogic.com/colorblind) where you can try diferents colors and simulate how it looks like to viewers with some types of colorblind"
   ]
  },
  {
   "cell_type": "code",
   "execution_count": 2,
   "metadata": {
    "cell_id": "4444ebffca564899a32e57a48e975dfe",
    "deepnote_app_coordinates": {
     "h": 5,
     "w": 12,
     "x": 0,
     "y": 7
    },
    "deepnote_cell_type": "code",
    "deepnote_to_be_reexecuted": false,
    "execution_millis": 47,
    "execution_start": 1669902493386,
    "source_hash": "61b4be05",
    "tags": []
   },
   "outputs": [],
   "source": [
    "import pandas as pd\n",
    "\n",
    "from ipyvizzu import Chart, Data, Config, Style\n",
    "\n",
    "# Create data object, read csv to data frame and add data frame to data object.\n",
    "data = Data()\n",
    "data_frame = pd.read_csv(\n",
    "    \"https://raw.githubusercontent.com/vizzuhq/ipyvizzu/\"\n",
    "    + \"gh-pages/docs/data/chart_types_eu.csv\",\n",
    "    dtype={\"Year\": str, \"Timeseries\": str},\n",
    ")\n",
    "data.add_data_frame(data_frame)"
   ]
  },
  {
   "cell_type": "code",
   "execution_count": 4,
   "metadata": {
    "cell_id": "a04d6ac5a6874233a2534c61a923136e",
    "deepnote_app_coordinates": {
     "h": 52,
     "w": 12,
     "x": 0,
     "y": 73
    },
    "deepnote_cell_type": "code",
    "deepnote_to_be_reexecuted": false,
    "execution_millis": 2,
    "execution_start": 1669902497335,
    "source_hash": "d6175ef0",
    "tags": []
   },
   "outputs": [],
   "source": [
    "# Set the style of the charts in the story\n",
    "style = Style(\n",
    "    {\n",
    "        \"backgroundColor\": \"#FFFFFF\",\n",
    "        \"fontFamily\": \"Tahoma\",\n",
    "        \"fontSize\": \"10px\",\n",
    "        \"legend\": {\n",
    "            \"label\": {\n",
    "                \"color\": \"#3E3D3D\",\n",
    "                \"fontSize\": \"1.2em\",\n",
    "                \"textAlign\": \"left\",\n",
    "            },\n",
    "            \"title\": {\n",
    "                \"color\": \"#b9b9b9\",\n",
    "                \"fontSize\": \"1.166667em\",\n",
    "                \"textAlign\": \"left\",\n",
    "            },\n",
    "            \"marker\": {\"size\": \"1em\", \"type\": \"square\"},\n",
    "            \"paddingLeft\": \"0.5em\",\n",
    "        },\n",
    "        \"plot\": {\n",
    "            \"marker\": {\n",
    "                \"colorGradient\": \"#003f5c 0, \"\n",
    "                + \"#58508d 0.25, \"\n",
    "                + \"#bc5090 0.5, \"\n",
    "                + \"#ff6361 0.75, \"\n",
    "                + \"#ffa600 1\",\n",
    "                \"colorPalette\": \"#E69F00 \"\n",
    "                + \"#56B4E9 \"\n",
    "                + \"#009E73 \"\n",
    "                + \"#F0E442 \"\n",
    "                + \"#0072B2 \"\n",
    "                + \"#D55E00 \"\n",
    "                + \"#CC79A7 \"\n",
    "                + \"#DEEF14 \"\n",
    "                + \"#AFA037 \"\n",
    "                + \"#9D3B94 \"\n",
    "                + \"#BEB1FD \"\n",
    "                + \"#20756D \"\n",
    "                + \"#E9C66E \"\n",
    "                + \"#BB76D3 \"\n",
    "                + \"#AC1092 \",\n",
    "                \"label\": {\n",
    "                    \"fontSize\": \"1.2em\",\n",
    "                    \"filter\": \"color(#000000)\",\n",
    "                    \"fontWeight\": \"normal\",\n",
    "                },\n",
    "            },\n",
    "            \"yAxis\": {\n",
    "                \"color\": \"#CCCCCCFF\",\n",
    "                \"label\": {\"color\": \"#999999FF\", \"fontSize\": \"1em\"},\n",
    "                \"title\": {\"color\": \"#999999FF\", \"fontSize\": \"1.166667em\"},\n",
    "            },\n",
    "            \"xAxis\": {\n",
    "                \"label\": {\"color\": \"#999999FF\", \"fontSize\": \"1em\"},\n",
    "                \"title\": {\"color\": \"#999999FF\", \"fontSize\": \"1.166667em\"},\n",
    "            },\n",
    "        },\n",
    "        \"title\": {\"color\": \"#000000\", \"fontSize\": \"2.166667em\", \"textAlign\": \"center\"},\n",
    "        \"tooltip\": {\n",
    "            \"arrowSize\": \"8\",\n",
    "            \"color\": \"#191919\",\n",
    "            \"backgroundColor\": \"#FFFFFF\",\n",
    "            \"borderColor\": \"#D8D8D8FF\",\n",
    "            \"fontSize\": \"12px\",\n",
    "        },\n",
    "        \"logo\": {\n",
    "            \"filter\": \"color(#D8D8D8FF)\",\n",
    "        },\n",
    "    }\n",
    ")"
   ]
  },
  {
   "cell_type": "code",
   "execution_count": null,
   "metadata": {
    "cell_id": "5dc406a427384dddad05c65fa1d288fb",
    "deepnote_app_coordinates": {
     "h": 5,
     "w": 12,
     "x": 0,
     "y": 19
    },
    "deepnote_cell_type": "code",
    "deepnote_to_be_reexecuted": false,
    "execution_millis": 16,
    "execution_start": 1669902493482,
    "source_hash": "dd0554a7",
    "tags": []
   },
   "outputs": [],
   "source": [
    "chart = Chart(width=\"100%\", height=\"480px\", display=\"manual\")\n",
    "\n",
    "chart.animate(data, style)\n",
    "\n",
    "chart.animate(\n",
    "    data.filter(\n",
    "        \"\"\"record.Year == '01' || record.Year == '02' || record.Year == '03' || record.Year == '04'|| record.Year == '05'\"\"\"\n",
    "    ),\n",
    "    Config.stackedColumn(\n",
    "        {\n",
    "            \"x\": \"Year\",\n",
    "            \"y\": \"Value 2 (+)\",\n",
    "            \"stackedBy\": \"Joy factors\",\n",
    "            \"title\": \"Stacked Column Chart\",\n",
    "        }\n",
    "    ),\n",
    ")\n",
    "\n",
    "chart.feature(\"tooltip\", True)\n",
    "\n",
    "chart.show()"
   ]
  },
  {
   "cell_type": "code",
   "execution_count": null,
   "metadata": {
    "cell_id": "1a5c398e1e5e490785ec4e6225f398ab",
    "deepnote_app_coordinates": {
     "h": 5,
     "w": 12,
     "x": 0,
     "y": 25
    },
    "deepnote_cell_type": "code",
    "deepnote_to_be_reexecuted": false,
    "execution_millis": 14,
    "execution_start": 1669902493492,
    "source_hash": "97fbbb0d",
    "tags": []
   },
   "outputs": [],
   "source": [
    "chart2 = Chart(width=\"100%\", height=\"480px\", display=\"manual\")\n",
    "\n",
    "chart2.animate(data, style)\n",
    "\n",
    "chart2.animate(\n",
    "    Config.splittedColumn(\n",
    "        {\n",
    "            \"x\": \"Year\",\n",
    "            \"y\": \"Value 2 (+)\",\n",
    "            \"splittedBy\": \"Joy factors\",\n",
    "            \"title\": \"Splitted Column Chart\",\n",
    "        }\n",
    "    )\n",
    ")\n",
    "\n",
    "chart2.feature(\"tooltip\", True)\n",
    "\n",
    "chart2.show()"
   ]
  },
  {
   "cell_type": "code",
   "execution_count": null,
   "metadata": {
    "allow_embed": false,
    "cell_id": "5e14af3b537d4a49976cd5cbaba01408",
    "deepnote_app_coordinates": {
     "h": 5,
     "w": 12,
     "x": 0,
     "y": 31
    },
    "deepnote_cell_type": "code",
    "deepnote_to_be_reexecuted": false,
    "execution_millis": 19,
    "execution_start": 1669902493501,
    "source_hash": "26f754f7",
    "tags": []
   },
   "outputs": [],
   "source": [
    "chart3 = Chart(width=\"100%\", height=\"480px\", display=\"manual\")\n",
    "\n",
    "chart3.animate(data, style)\n",
    "\n",
    "chart3.animate(\n",
    "    Config.stackedArea(\n",
    "        {\n",
    "            \"x\": \"Year\",\n",
    "            \"y\": \"Value 2 (+)\",\n",
    "            \"stackedBy\": \"Joy factors\",\n",
    "            \"title\": \"Stacked Area Chart\",\n",
    "        }\n",
    "    )\n",
    ")\n",
    "\n",
    "chart3.feature(\"tooltip\", True)\n",
    "\n",
    "chart3.show()"
   ]
  },
  {
   "cell_type": "code",
   "execution_count": null,
   "metadata": {
    "allow_embed": false,
    "cell_id": "47b0a167b5fe403fade538f5cca5363e",
    "deepnote_app_coordinates": {
     "h": 5,
     "w": 12,
     "x": 0,
     "y": 43
    },
    "deepnote_cell_type": "code",
    "deepnote_to_be_reexecuted": false,
    "execution_millis": 15,
    "execution_start": 1669902493521,
    "source_hash": "62f63e5e",
    "tags": []
   },
   "outputs": [],
   "source": [
    "chart4 = Chart(width=\"100%\", height=\"480px\", display=\"manual\")\n",
    "\n",
    "chart4.animate(data, style)\n",
    "\n",
    "chart4.animate(\n",
    "    Config.stackedBubble(\n",
    "        {\n",
    "            \"size\": \"Value 2 (+)\",\n",
    "            \"color\": \"Joy factors\",\n",
    "            \"stackedBy\": \"Year\",\n",
    "            \"title\": \"Stacked Bubble Chart\",\n",
    "        }\n",
    "    )\n",
    ")\n",
    "\n",
    "chart4.feature(\"tooltip\", True)\n",
    "\n",
    "chart4.show()"
   ]
  },
  {
   "cell_type": "code",
   "execution_count": null,
   "metadata": {
    "cell_id": "e63233c84b3d45fbb64cc3165b1db370",
    "deepnote_app_coordinates": {
     "h": 5,
     "w": 12,
     "x": 0,
     "y": 37
    },
    "deepnote_cell_type": "code",
    "deepnote_to_be_reexecuted": false,
    "execution_millis": 19,
    "execution_start": 1669902493525,
    "source_hash": "92fd46d3",
    "tags": []
   },
   "outputs": [],
   "source": [
    "chart5 = Chart(width=\"100%\", height=\"480px\", display=\"manual\")\n",
    "\n",
    "chart5.animate(data, style)\n",
    "\n",
    "chart5.animate(\n",
    "    Config.pie({\"angle\": \"Value 2 (+)\", \"by\": \"Joy factors\", \"title\": \"Pie Chart\"})\n",
    ")\n",
    "\n",
    "chart5.feature(\"tooltip\", True)\n",
    "\n",
    "chart5.show()"
   ]
  },
  {
   "cell_type": "code",
   "execution_count": null,
   "metadata": {
    "allow_embed": false,
    "cell_id": "3c85200b95234297a28170c912a5bffd",
    "deepnote_app_coordinates": {
     "h": 5,
     "w": 12,
     "x": 0,
     "y": 49
    },
    "deepnote_cell_type": "code",
    "deepnote_to_be_reexecuted": false,
    "execution_millis": 17,
    "execution_start": 1669902493548,
    "source_hash": "7518318e",
    "tags": []
   },
   "outputs": [],
   "source": [
    "chart6 = Chart(width=\"100%\", height=\"480px\", display=\"manual\")\n",
    "\n",
    "chart6.animate(data, style)\n",
    "\n",
    "chart6.animate(\n",
    "    Data.filter(\n",
    "        \"\"\"record.Year == '01' || record.Year == '02' || record.Year == '03' || record.Year == '04'|| record.Year == '05'\"\"\"\n",
    "    ),\n",
    "    Config.stackedTreemap(\n",
    "        {\n",
    "            \"size\": \"Value 2 (+)\",\n",
    "            \"color\": \"Year\",\n",
    "            \"title\": \"Stacked Treemap\",\n",
    "            \"dividedBy\": \"Country_code\",\n",
    "        }\n",
    "    ),\n",
    ")\n",
    "\n",
    "chart6.feature(\"tooltip\", True)\n",
    "\n",
    "chart6.show()"
   ]
  },
  {
   "cell_type": "code",
   "execution_count": null,
   "metadata": {
    "allow_embed": false,
    "cell_id": "86f925ac9fd440dd948eb81d858554a5",
    "deepnote_app_coordinates": {
     "h": 5,
     "w": 12,
     "x": 0,
     "y": 55
    },
    "deepnote_cell_type": "code",
    "deepnote_to_be_reexecuted": false,
    "execution_millis": 15,
    "execution_start": 1669902493567,
    "source_hash": "f63e9b8c",
    "tags": []
   },
   "outputs": [],
   "source": [
    "chart7 = Chart(width=\"100%\", height=\"480px\", display=\"manual\")\n",
    "\n",
    "chart7.animate(data, style)\n",
    "\n",
    "chart7.animate(\n",
    "    Data.filter(None),\n",
    "    Config.heatmap(\n",
    "        {\n",
    "            \"x\": \"Year\",\n",
    "            \"y\": \"Country_code\",\n",
    "            \"lightness\": \"Value 3 (+)\",\n",
    "            \"title\": \"Heatmap (lightness)\",\n",
    "        }\n",
    "    ),\n",
    "    Style({\"plot\": {\"marker\": {\"rectangleSpacing\": 0}}}),\n",
    ")\n",
    "\n",
    "chart7.feature(\"tooltip\", True)\n",
    "\n",
    "chart7.show()"
   ]
  },
  {
   "cell_type": "code",
   "execution_count": null,
   "metadata": {
    "allow_embed": false,
    "cell_id": "156a94ec81f04ed19d4914d14a21c37e",
    "deepnote_app_coordinates": {
     "h": 5,
     "w": 12,
     "x": 0,
     "y": 67
    },
    "deepnote_cell_type": "code",
    "deepnote_to_be_reexecuted": false,
    "execution_millis": 21,
    "execution_start": 1669902493574,
    "scrolled": true,
    "source_hash": "a4eba9c5",
    "tags": []
   },
   "outputs": [],
   "source": [
    "chart8 = Chart(width=\"100%\", height=\"480px\", display=\"manual\")\n",
    "\n",
    "chart8.animate(data, style)\n",
    "\n",
    "chart8.animate(\n",
    "    Config(\n",
    "        {\n",
    "            \"x\": \"Year\",\n",
    "            \"y\": \"Country_code\",\n",
    "            \"color\": \"Value 3 (+)\",\n",
    "            \"title\": \"Heatmap (color gradient)\",\n",
    "        }\n",
    "    ),\n",
    "    Style({\"plot\": {\"marker\": {\"rectangleSpacing\": 0}}}),\n",
    ")\n",
    "\n",
    "chart8.feature(\"tooltip\", True)\n",
    "\n",
    "chart8.show()"
   ]
  }
 ],
 "metadata": {
  "deepnote": {},
  "deepnote_app_layout": "article",
  "deepnote_execution_queue": [],
  "deepnote_notebook_id": "c21c8baa37934b03bd33bf02b46c70e2",
  "deepnote_persisted_session": {
   "createdAt": "2022-12-01T14:17:43.579Z"
  },
  "kernelspec": {
   "display_name": "Python 3.10.2 64-bit",
   "language": "python",
   "name": "python3"
  },
  "language_info": {
   "codemirror_mode": {
    "name": "ipython",
    "version": 3
   },
   "file_extension": ".py",
   "mimetype": "text/x-python",
   "name": "python",
   "nbconvert_exporter": "python",
   "pygments_lexer": "ipython3",
   "version": "3.10.2"
  },
  "vscode": {
   "interpreter": {
    "hash": "1cf280054921a5f132c2690a7d7165a9692ef17a7daf272aae0ce446c51428bc"
   }
  }
 },
 "nbformat": 4,
 "nbformat_minor": 1
}
